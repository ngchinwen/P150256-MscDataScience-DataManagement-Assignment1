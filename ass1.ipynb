{
 "cells": [
  {
   "cell_type": "code",
   "execution_count": null,
   "id": "8e35c176",
   "metadata": {},
   "outputs": [],
   "source": [
    "import json\n",
    "import pandas as pd\n",
    "import numpy as np"
   ]
  },
  {
   "cell_type": "code",
   "execution_count": 20,
   "id": "b085af8d",
   "metadata": {},
   "outputs": [],
   "source": [
    "import json\n",
    "\n",
    "def init_ds(json):\n",
    "    ds= {}\n",
    "    keys = json.keys()\n",
    "    for k in keys:\n",
    "        ds[k]= []\n",
    "    return ds, keys\n",
    "\n",
    "def read_json(file):\n",
    "    dataset = {}\n",
    "    keys = []\n",
    "    with open(file) as file_lines:\n",
    "        for count, line in enumerate(file_lines):\n",
    "            data = json.loads(line.strip())\n",
    "            if count ==0:\n",
    "                dataset, keys = init_ds(data)\n",
    "            for k in keys:\n",
    "                dataset[k].append(data[k])\n",
    "                \n",
    "        return pd.DataFrame(dataset)"
   ]
  },
  {
   "cell_type": "code",
   "execution_count": 21,
   "id": "b6fd10f4",
   "metadata": {},
   "outputs": [
    {
     "ename": "UnicodeDecodeError",
     "evalue": "'charmap' codec can't decode byte 0x9d in position 6546: character maps to <undefined>",
     "output_type": "error",
     "traceback": [
      "\u001b[1;31m---------------------------------------------------------------------------\u001b[0m",
      "\u001b[1;31mUnicodeDecodeError\u001b[0m                        Traceback (most recent call last)",
      "Cell \u001b[1;32mIn[21], line 1\u001b[0m\n\u001b[1;32m----> 1\u001b[0m yelp_review\u001b[38;5;241m=\u001b[39m \u001b[43mread_json\u001b[49m\u001b[43m(\u001b[49m\u001b[38;5;124;43m'\u001b[39;49m\u001b[38;5;124;43myelp_academic_dataset_review.json\u001b[39;49m\u001b[38;5;124;43m'\u001b[39;49m\u001b[43m)\u001b[49m\n\u001b[0;32m      2\u001b[0m yelp_review\u001b[38;5;241m.\u001b[39mhead()\n",
      "Cell \u001b[1;32mIn[20], line 14\u001b[0m, in \u001b[0;36mread_json\u001b[1;34m(file)\u001b[0m\n\u001b[0;32m     12\u001b[0m keys \u001b[38;5;241m=\u001b[39m []\n\u001b[0;32m     13\u001b[0m \u001b[38;5;28;01mwith\u001b[39;00m \u001b[38;5;28mopen\u001b[39m(file) \u001b[38;5;28;01mas\u001b[39;00m file_lines:\n\u001b[1;32m---> 14\u001b[0m     \u001b[38;5;28;01mfor\u001b[39;00m count, line \u001b[38;5;129;01min\u001b[39;00m \u001b[38;5;28menumerate\u001b[39m(file_lines):\n\u001b[0;32m     15\u001b[0m         data \u001b[38;5;241m=\u001b[39m json\u001b[38;5;241m.\u001b[39mloads(line\u001b[38;5;241m.\u001b[39mstrip())\n\u001b[0;32m     16\u001b[0m         \u001b[38;5;28;01mif\u001b[39;00m count \u001b[38;5;241m==\u001b[39m\u001b[38;5;241m0\u001b[39m:\n",
      "File \u001b[1;32mC:\\ProgramData\\anaconda3\\envs\\ukm_stqd6324\\lib\\encodings\\cp1252.py:23\u001b[0m, in \u001b[0;36mIncrementalDecoder.decode\u001b[1;34m(self, input, final)\u001b[0m\n\u001b[0;32m     22\u001b[0m \u001b[38;5;28;01mdef\u001b[39;00m \u001b[38;5;21mdecode\u001b[39m(\u001b[38;5;28mself\u001b[39m, \u001b[38;5;28minput\u001b[39m, final\u001b[38;5;241m=\u001b[39m\u001b[38;5;28;01mFalse\u001b[39;00m):\n\u001b[1;32m---> 23\u001b[0m     \u001b[38;5;28;01mreturn\u001b[39;00m \u001b[43mcodecs\u001b[49m\u001b[38;5;241;43m.\u001b[39;49m\u001b[43mcharmap_decode\u001b[49m\u001b[43m(\u001b[49m\u001b[38;5;28;43minput\u001b[39;49m\u001b[43m,\u001b[49m\u001b[38;5;28;43mself\u001b[39;49m\u001b[38;5;241;43m.\u001b[39;49m\u001b[43merrors\u001b[49m\u001b[43m,\u001b[49m\u001b[43mdecoding_table\u001b[49m\u001b[43m)\u001b[49m[\u001b[38;5;241m0\u001b[39m]\n",
      "\u001b[1;31mUnicodeDecodeError\u001b[0m: 'charmap' codec can't decode byte 0x9d in position 6546: character maps to <undefined>"
     ]
    }
   ],
   "source": [
    "yelp_review= read_json('yelp_academic_dataset_review.json')\n",
    "yelp_review.head()"
   ]
  },
  {
   "cell_type": "code",
   "execution_count": 15,
   "id": "a263b080-e882-4bc7-9561-a507f1e9f725",
   "metadata": {},
   "outputs": [
    {
     "name": "stdout",
     "output_type": "stream",
     "text": [
      "[('default',), ('foodmart',)]\n"
     ]
    }
   ],
   "source": [
    "from impala.dbapi import connect\n",
    "\n",
    "conn = connect(\n",
    "    host='127.0.0.1',\n",
    "    port=10000,\n",
    "    user='maria_dev',\n",
    "    database='default',\n",
    "    auth_mechanism = 'PLAIN'\n",
    ")\n",
    "cursor = conn.cursor()\n",
    "cursor.execute('SHOW DATABASES')\n",
    "print(cursor.fetchall())"
   ]
  },
  {
   "cell_type": "code",
   "execution_count": 18,
   "id": "6597d40b",
   "metadata": {},
   "outputs": [
    {
     "name": "stdout",
     "output_type": "stream",
     "text": [
      "[('product_id', 'int', ''), ('time_id', 'int', ''), ('customer_id', 'int', ''), ('promotion_id', 'int', ''), ('store_id', 'int', ''), ('store_sales', 'decimal(10,4)', ''), ('store_cost', 'decimal(10,4)', ''), ('unit_sales', 'decimal(10,4)', ''), ('', None, None), ('Detailed Table Information', 'Table(tableName:sales_fact_1997, dbName:foodmart, owner:hive, createTime:1529335142, lastAccessTime:0, retention:0, sd:StorageDescriptor(cols:[FieldSchema(name:product_id, type:int, comment:null), FieldSchema(name:time_id, type:int, comment:null), FieldSchema(name:customer_id, type:int, comment:null), FieldSchema(name:promotion_id, type:int, comment:null), FieldSchema(name:store_id, type:int, comment:null), FieldSchema(name:store_sales, type:decimal(10,4), comment:null), FieldSchema(name:store_cost, type:decimal(10,4), comment:null), FieldSchema(name:unit_sales, type:decimal(10,4), comment:null)], location:hdfs://sandbox-hdp.hortonworks.com:8020/apps/hive/warehouse/foodmart.db/sales_fact_1997, inputFormat:org.apache.hadoop.hive.ql.io.orc.OrcInputFormat, outputFormat:org.apache.hadoop.hive.ql.io.orc.OrcOutputFormat, compressed:false, numBuckets:-1, serdeInfo:SerDeInfo(name:null, serializationLib:org.apache.hadoop.hive.ql.io.orc.OrcSerde, parameters:{serialization.format=1}), bucketCols:[], sortCols:[], parameters:{}, skewedInfo:SkewedInfo(skewedColNames:[], skewedColValues:[], skewedColValueLocationMaps:{}), storedAsSubDirectories:false), partitionKeys:[], parameters:{totalSize=749923, EXTERNAL=TRUE, COLUMN_STATS_ACCURATE={\"COLUMN_STATS\":{\"product_id\":\"true\",\"time_id\":\"true\",\"customer_id\":\"true\",\"promotion_id\":\"true\",\"store_id\":\"true\",\"store_sales\":\"true\",\"store_cost\":\"true\",\"unit_sales\":\"true\"}}, numFiles=1, orc.compress=SNAPPY, transient_lastDdlTime=1529335142}, viewOriginalText:null, viewExpandedText:null, tableType:EXTERNAL_TABLE)', '')]\n"
     ]
    }
   ],
   "source": [
    "cursor.execute('DESCRIBE EXTENDED foodmart.sales_fact_1997')\n",
    "print(cursor.fetchall())"
   ]
  }
 ],
 "metadata": {
  "kernelspec": {
   "display_name": "Python 3 (ipykernel)",
   "language": "python",
   "name": "python3"
  },
  "language_info": {
   "codemirror_mode": {
    "name": "ipython",
    "version": 3
   },
   "file_extension": ".py",
   "mimetype": "text/x-python",
   "name": "python",
   "nbconvert_exporter": "python",
   "pygments_lexer": "ipython3",
   "version": "3.8.20"
  }
 },
 "nbformat": 4,
 "nbformat_minor": 5
}
